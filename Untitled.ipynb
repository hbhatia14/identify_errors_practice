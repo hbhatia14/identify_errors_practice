{
 "cells": [
  {
   "cell_type": "code",
   "execution_count": 3,
   "id": "2802eb1f",
   "metadata": {},
   "outputs": [
    {
     "ename": "SyntaxError",
     "evalue": "Missing parentheses in call to 'print'. Did you mean print(\"My name is James Bond\")? (2093132559.py, line 5)",
     "output_type": "error",
     "traceback": [
      "\u001b[0;36m  Input \u001b[0;32mIn [3]\u001b[0;36m\u001b[0m\n\u001b[0;31m    print \"My name is James Bond\"\u001b[0m\n\u001b[0m          ^\u001b[0m\n\u001b[0;31mSyntaxError\u001b[0m\u001b[0;31m:\u001b[0m Missing parentheses in call to 'print'. Did you mean print(\"My name is James Bond\")?\n"
     ]
    }
   ],
   "source": [
    "sales_price = 24500\n",
    "\n",
    "print(total_price)\n",
    "print \"My name is James Bond\"\n",
    "x = 11 \n",
    "\n",
    "if x > 10:\n",
    "print('X is greater than 10')\n",
    "else: \n",
    "    print('x is not greater than 10')\n",
    "    \n",
    "list_a = [1,2,3,4,'Ayaan', 'Hirsi']\n",
    "\n",
    "list_a[11]"
   ]
  },
  {
   "cell_type": "code",
   "execution_count": null,
   "id": "e48d22f9",
   "metadata": {},
   "outputs": [],
   "source": [
    "# first error is naming error caused by wrong naming of the variables"
   ]
  },
  {
   "cell_type": "code",
   "execution_count": 3,
   "id": "e101a17b",
   "metadata": {},
   "outputs": [
    {
     "ename": "IndentationError",
     "evalue": "expected an indented block (269573554.py, line 4)",
     "output_type": "error",
     "traceback": [
      "\u001b[0;36m  Input \u001b[0;32mIn [3]\u001b[0;36m\u001b[0m\n\u001b[0;31m    print('X is greater than 10')\u001b[0m\n\u001b[0m    ^\u001b[0m\n\u001b[0;31mIndentationError\u001b[0m\u001b[0;31m:\u001b[0m expected an indented block\n"
     ]
    }
   ],
   "source": [
    "# second error is the missing parenthesis for the print function\n",
    "# third error is an indentation error after the IF statement"
   ]
  },
  {
   "cell_type": "code",
   "execution_count": 4,
   "id": "7edcbd6f",
   "metadata": {},
   "outputs": [
    {
     "ename": "IndexError",
     "evalue": "list index out of range",
     "output_type": "error",
     "traceback": [
      "\u001b[0;31m---------------------------------------------------------------------------\u001b[0m",
      "\u001b[0;31mIndexError\u001b[0m                                Traceback (most recent call last)",
      "Input \u001b[0;32mIn [4]\u001b[0m, in \u001b[0;36m<cell line: 3>\u001b[0;34m()\u001b[0m\n\u001b[1;32m      1\u001b[0m list_a \u001b[38;5;241m=\u001b[39m [\u001b[38;5;241m1\u001b[39m,\u001b[38;5;241m2\u001b[39m,\u001b[38;5;241m3\u001b[39m,\u001b[38;5;241m4\u001b[39m,\u001b[38;5;124m'\u001b[39m\u001b[38;5;124mAyaan\u001b[39m\u001b[38;5;124m'\u001b[39m, \u001b[38;5;124m'\u001b[39m\u001b[38;5;124mHirsi\u001b[39m\u001b[38;5;124m'\u001b[39m]\n\u001b[0;32m----> 3\u001b[0m \u001b[43mlist_a\u001b[49m\u001b[43m[\u001b[49m\u001b[38;5;241;43m11\u001b[39;49m\u001b[43m]\u001b[49m\n",
      "\u001b[0;31mIndexError\u001b[0m: list index out of range"
     ]
    }
   ],
   "source": [
    "# fourth error is index error as we are trying to access an element which is not in the list"
   ]
  },
  {
   "cell_type": "code",
   "execution_count": 7,
   "id": "cd5e7674",
   "metadata": {},
   "outputs": [
    {
     "name": "stdout",
     "output_type": "stream",
     "text": [
      "24500\n",
      "My name is James Bond\n",
      "X is greater than 10\n"
     ]
    },
    {
     "data": {
      "text/plain": [
       "2"
      ]
     },
     "execution_count": 7,
     "metadata": {},
     "output_type": "execute_result"
    }
   ],
   "source": [
    "#the corrected codes \n",
    "\n",
    "sales_price = 24500\n",
    "\n",
    "print(sales_price)\n",
    "\n",
    "print (\"My name is James Bond\")\n",
    "\n",
    "x = 11 \n",
    "if x > 10:\n",
    "    print('X is greater than 10')\n",
    "else: \n",
    "    print('x is not greater than 10')\n",
    "\n",
    "list_a = [1,2,3,4,'Ayaan', 'Hirsi']\n",
    "list_a[1]"
   ]
  },
  {
   "cell_type": "code",
   "execution_count": null,
   "id": "aa2032a8",
   "metadata": {},
   "outputs": [],
   "source": [
    "# all outputs are correct without any errors. Good job and Good luck!"
   ]
  }
 ],
 "metadata": {
  "kernelspec": {
   "display_name": "Python 3 (ipykernel)",
   "language": "python",
   "name": "python3"
  },
  "language_info": {
   "codemirror_mode": {
    "name": "ipython",
    "version": 3
   },
   "file_extension": ".py",
   "mimetype": "text/x-python",
   "name": "python",
   "nbconvert_exporter": "python",
   "pygments_lexer": "ipython3",
   "version": "3.9.12"
  }
 },
 "nbformat": 4,
 "nbformat_minor": 5
}
